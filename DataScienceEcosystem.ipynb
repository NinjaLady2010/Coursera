{
 "cells": [
  {
   "cell_type": "markdown",
   "id": "010c2492-a846-4988-89b3-9e7c255ba8e6",
   "metadata": {},
   "source": [
    "# Data Science Tools and Ecosystem"
   ]
  },
  {
   "cell_type": "markdown",
   "id": "089cb020-4cb2-4f08-85e8-2ffb37c74177",
   "metadata": {},
   "source": [
    "In this notebook, Data Science Tools and Ecosystems are summarized"
   ]
  },
  {
   "cell_type": "markdown",
   "id": "f1514417-b017-450b-bb7f-37fd7d09df5a",
   "metadata": {},
   "source": [
    "# Objectives:\n",
    "\n",
    "* List popular languages used by Data Scientists\n",
    "* List commonly used libraries by Data Scientists\n",
    "* Create a table of Data Science Tools\n",
    "* Create an arithmetic expression in Python\n",
    "* Convert and arithmetic expression of minutes into hours"
   ]
  },
  {
   "cell_type": "markdown",
   "id": "ead2c3ee-2237-4aa8-95f5-74727aeb83bd",
   "metadata": {},
   "source": [
    "Some of the popular languages that Data Scientists use are:\n",
    "\n",
    "1. Python\n",
    "2. SQL\n",
    "3. R\n",
    "4. Scala\n",
    "5. JavaScript\n",
    "6. C++\n",
    "7. Julia"
   ]
  },
  {
   "cell_type": "markdown",
   "id": "fc456b0f-314c-4829-b655-c47a1a59c7c3",
   "metadata": {
    "scrolled": true
   },
   "source": [
    "Some of the commonly used libraries used by Data Scientists include:\n",
    "\n",
    "1. Pandas\n",
    "2. NumPy\n",
    "3. Matplotlib\n",
    "4. Seaborn\n",
    "5. SciKit-Learn\n",
    "6. Keras\n",
    "7. TensorFlow\n",
    "8. PyTorch"
   ]
  },
  {
   "cell_type": "markdown",
   "id": "4efe051b-76bb-4f08-9114-cdce30f20004",
   "metadata": {},
   "source": [
    "| Data Science Tools |\n",
    "|--------------------|\n",
    "| RStudio |\n",
    "| Apache Spark |\n",
    "| TensorFlow |"
   ]
  },
  {
   "cell_type": "markdown",
   "id": "645aa7b8-9ba3-4343-a962-6fc3305c2903",
   "metadata": {},
   "source": [
    "### Below are a few examples of evaluating arithmetic expressions in Python"
   ]
  },
  {
   "cell_type": "code",
   "execution_count": 4,
   "id": "b6f38dce-b7fb-44b4-aad7-0ea5d67c2e71",
   "metadata": {},
   "outputs": [
    {
     "data": {
      "text/plain": [
       "17"
      ]
     },
     "execution_count": 4,
     "metadata": {},
     "output_type": "execute_result"
    }
   ],
   "source": [
    "# This is a simple arithmetic expression to multiply then add integers\n",
    "(3*4)+5"
   ]
  },
  {
   "cell_type": "code",
   "execution_count": 5,
   "id": "e661bc00-f901-4ef6-aec8-35e148b049a4",
   "metadata": {},
   "outputs": [
    {
     "data": {
      "text/plain": [
       "3.3333333333333335"
      ]
     },
     "execution_count": 5,
     "metadata": {},
     "output_type": "execute_result"
    }
   ],
   "source": [
    "# This will convert 200 minutes to hours by dividing by 60\n",
    "200/60"
   ]
  },
  {
   "cell_type": "markdown",
   "id": "6d4287cb-aee7-44b0-a2de-cb440acbcf0f",
   "metadata": {},
   "source": [
    "## Author\n",
    "Ruth Noel"
   ]
  },
  {
   "cell_type": "code",
   "execution_count": null,
   "id": "1921b273-4584-41e1-875f-7bff31eb0f6d",
   "metadata": {},
   "outputs": [],
   "source": []
  }
 ],
 "metadata": {
  "kernelspec": {
   "display_name": "Python 3 (ipykernel)",
   "language": "python",
   "name": "python3"
  },
  "language_info": {
   "codemirror_mode": {
    "name": "ipython",
    "version": 3
   },
   "file_extension": ".py",
   "mimetype": "text/x-python",
   "name": "python",
   "nbconvert_exporter": "python",
   "pygments_lexer": "ipython3",
   "version": "3.12.4"
  }
 },
 "nbformat": 4,
 "nbformat_minor": 5
}
